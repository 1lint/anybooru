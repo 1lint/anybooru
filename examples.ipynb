{
 "cells": [
  {
   "cell_type": "code",
   "execution_count": null,
   "metadata": {},
   "outputs": [],
   "source": [
    "from torchvision.utils import make_grid\n",
    "from torchvision.io import read_image\n",
    "from pathlib import Path\n",
    "\n",
    "images = []\n",
    "image_dir = './anybooru_examples/'\n",
    "\n",
    "for image_path in Path(image_dir).glob('*_1.png'):\n",
    "    images.append(read_image(str(image_path)))\n",
    "\n",
    "grid = make_grid(images)\n",
    "grid = grid.permute(1,2,0).numpy()\n",
    "image_grid = Image.fromarray(grid)\n",
    "image_grid.save(Path(image_dir)/'image_grid.png')"
   ]
  },
  {
   "cell_type": "code",
   "execution_count": null,
   "metadata": {},
   "outputs": [],
   "source": [
    "from anybooru_data import PNGDataset\n",
    "\n",
    "dataset = PNGDataset('./anybooru_examples/')\n",
    "sample = dataset[0]\n",
    "\n",
    "image_tensor = sample['image']\n",
    "print(image_tensor.shape)\n",
    "\n",
    "tag_string = sample['cond']\n",
    "print(tag_string)"
   ]
  },
  {
   "cell_type": "code",
   "execution_count": null,
   "metadata": {},
   "outputs": [],
   "source": [
    "from torch.utils.data import DataLoader\n",
    "\n",
    "dataloader = DataLoader(dataset, batch_size=4)\n",
    "\n",
    "batch = next(iter(dataloader))\n",
    "\n",
    "image_tensors = batch['image']\n",
    "print(image_tensors.shape)\n",
    "\n",
    "tag_strings = batch['cond']\n",
    "print(tag_strings)\n"
   ]
  },
  {
   "cell_type": "code",
   "execution_count": null,
   "metadata": {},
   "outputs": [],
   "source": []
  }
 ],
 "metadata": {
  "kernelspec": {
   "display_name": "ml",
   "language": "python",
   "name": "python3"
  },
  "language_info": {
   "codemirror_mode": {
    "name": "ipython",
    "version": 3
   },
   "file_extension": ".py",
   "mimetype": "text/x-python",
   "name": "python",
   "nbconvert_exporter": "python",
   "pygments_lexer": "ipython3",
   "version": "3.10.8"
  },
  "orig_nbformat": 4
 },
 "nbformat": 4,
 "nbformat_minor": 2
}
